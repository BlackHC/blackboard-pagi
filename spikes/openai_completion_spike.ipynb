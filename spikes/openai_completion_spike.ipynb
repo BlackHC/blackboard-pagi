{
 "cells": [
  {
   "cell_type": "code",
   "execution_count": 1,
   "id": "ff5e1e11-0ac7-4705-a1d0-c296c834be86",
   "metadata": {},
   "outputs": [],
   "source": [
    "import os\n",
    "import openai\n",
    "\n",
    "openai.api_key = os.getenv(\"OPENAI_API_KEY\")"
   ]
  },
  {
   "cell_type": "code",
   "execution_count": 6,
   "id": "fe848b58-186a-47ad-ae8f-891676bcd9c5",
   "metadata": {},
   "outputs": [],
   "source": [
    "response = openai.Completion.create(\n",
    "  model=\"text-davinci-003\",\n",
    "  prompt=\"What is 1+1? Let's think step by step.\",\n",
    "  temperature=0,\n",
    "  max_tokens=100,\n",
    "  top_p=1,\n",
    "  frequency_penalty=0,\n",
    "  presence_penalty=0,\n",
    ")"
   ]
  },
  {
   "cell_type": "code",
   "execution_count": 4,
   "id": "17dae084-b03f-4518-a906-134ea8215706",
   "metadata": {},
   "outputs": [
    {
     "data": {
      "text/plain": "<OpenAIObject text_completion id=cmpl-6rXtgCGPyvOlP6IWKydQKEy5gnnmz at 0x10ed8b3b0> JSON: {\n  \"choices\": [\n    {\n      \"finish_reason\": \"stop\",\n      \"index\": 0,\n      \"logprobs\": null,\n      \"text\": \"\\n\\n1. Start with the number 1.\\n2. Add 1 to it.\\n3. The answer is 2.\"\n    }\n  ],\n  \"created\": 1678219704,\n  \"id\": \"cmpl-6rXtgCGPyvOlP6IWKydQKEy5gnnmz\",\n  \"model\": \"text-davinci-003\",\n  \"object\": \"text_completion\",\n  \"usage\": {\n    \"completion_tokens\": 26,\n    \"prompt_tokens\": 13,\n    \"total_tokens\": 39\n  }\n}"
     },
     "execution_count": 4,
     "metadata": {},
     "output_type": "execute_result"
    }
   ],
   "source": [
    "response"
   ]
  },
  {
   "cell_type": "code",
   "execution_count": null,
   "id": "4a827d63-044c-47a6-9971-ace45475145b",
   "metadata": {},
   "outputs": [],
   "source": []
  }
 ],
 "metadata": {
  "kernelspec": {
   "display_name": "Python 3 (ipykernel)",
   "language": "python",
   "name": "python3"
  },
  "language_info": {
   "codemirror_mode": {
    "name": "ipython",
    "version": 3
   },
   "file_extension": ".py",
   "mimetype": "text/x-python",
   "name": "python",
   "nbconvert_exporter": "python",
   "pygments_lexer": "ipython3",
   "version": "3.11.0"
  },
  "vscode": {
   "interpreter": {
    "hash": "fb91e58c33c7768449d0f4d1b6576049e900dd4824a3b1488e97360aa86387c8"
   }
  }
 },
 "nbformat": 4,
 "nbformat_minor": 5
}
