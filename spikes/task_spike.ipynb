{
 "cells": [
  {
   "cell_type": "code",
   "execution_count": 1,
   "metadata": {},
   "outputs": [],
   "source": [
    "import os\n",
    "import openai\n",
    "\n",
    "openai.api_key = os.getenv(\"OPENAI_API_KEY\")"
   ]
  },
  {
   "cell_type": "code",
   "execution_count": 14,
   "metadata": {},
   "outputs": [
    {
     "data": {
      "text/plain": [
       "<OpenAIObject text_completion id=cmpl-6O7jNkmjsRcbA7IYuQYYz6mWNaoLu at 0x10792fa70> JSON: {\n",
       "  \"choices\": [\n",
       "    {\n",
       "      \"finish_reason\": \"stop\",\n",
       "      \"index\": 0,\n",
       "      \"logprobs\": null,\n",
       "      \"text\": \"\\n  1. Identify what is meant by \\\"colleges\\\" in Oxford.\\n  2. Find a reliable source that lists the colleges in Oxford.\\n  3. Count the number of colleges listed in the source.\"\n",
       "    }\n",
       "  ],\n",
       "  \"created\": 1671207609,\n",
       "  \"id\": \"cmpl-6O7jNkmjsRcbA7IYuQYYz6mWNaoLu\",\n",
       "  \"model\": \"text-davinci-003\",\n",
       "  \"object\": \"text_completion\",\n",
       "  \"usage\": {\n",
       "    \"completion_tokens\": 47,\n",
       "    \"prompt_tokens\": 44,\n",
       "    \"total_tokens\": 91\n",
       "  }\n",
       "}"
      ]
     },
     "execution_count": 14,
     "metadata": {},
     "output_type": "execute_result"
    }
   ],
   "source": [
    "response = openai.Completion.create(\n",
    "  model=\"text-davinci-003\",\n",
    "  prompt=\"\"\"Decompose the following question into subgoals: How many colleges are there in Oxford?\n",
    "\n",
    "  Use the command `search[$query]` to search the internet to verify your assumptions.\n",
    "  \"\"\",\n",
    "  temperature=0,\n",
    "  max_tokens=100,\n",
    "  top_p=1,\n",
    "  frequency_penalty=0,\n",
    "  presence_penalty=0,\n",
    ")\n",
    "response"
   ]
  },
  {
   "cell_type": "code",
   "execution_count": 15,
   "metadata": {},
   "outputs": [
    {
     "data": {
      "text/plain": [
       "<OpenAIObject text_completion id=cmpl-6O8ehnNjuhW9V4CqTDT9VSmZThsaK at 0x10792fe30> JSON: {\n",
       "  \"choices\": [\n",
       "    {\n",
       "      \"finish_reason\": \"stop\",\n",
       "      \"index\": 0,\n",
       "      \"logprobs\": null,\n",
       "      \"text\": \"\\n  1. Identify the Fibonacci sequence\\n2. Determine the formula for the Fibonacci sequence\\n3. Calculate the 8th Fibonacci number using the formula\"\n",
       "    }\n",
       "  ],\n",
       "  \"created\": 1671211163,\n",
       "  \"id\": \"cmpl-6O8ehnNjuhW9V4CqTDT9VSmZThsaK\",\n",
       "  \"model\": \"text-davinci-003\",\n",
       "  \"object\": \"text_completion\",\n",
       "  \"usage\": {\n",
       "    \"completion_tokens\": 39,\n",
       "    \"prompt_tokens\": 62,\n",
       "    \"total_tokens\": 101\n",
       "  }\n",
       "}"
      ]
     },
     "execution_count": 15,
     "metadata": {},
     "output_type": "execute_result"
    }
   ],
   "source": [
    "response = openai.Completion.create(\n",
    "  model=\"text-davinci-003\",\n",
    "  prompt=\"\"\"Decompose the following question into subgoals: Compute the 8th Fibonacci number.\n",
    "\n",
    "  Use the command `search[$query]` to search the internet to verify your assumptions. Use the command `python[\\\"\"\"code\\\"\"\"]` to execute Python code.\n",
    "  \"\"\",\n",
    "  temperature=0,\n",
    "  max_tokens=100,\n",
    "  top_p=1,\n",
    "  frequency_penalty=0,\n",
    "  presence_penalty=0,\n",
    ")\n",
    "response"
   ]
  },
  {
   "cell_type": "code",
   "execution_count": 24,
   "metadata": {},
   "outputs": [
    {
     "data": {
      "text/plain": [
       "<OpenAIObject text_completion id=cmpl-6O91zRvEAa3UiSpHb1t0pXV3bhwrQ at 0x1078ec890> JSON: {\n",
       "  \"choices\": [\n",
       "    {\n",
       "      \"finish_reason\": \"stop\",\n",
       "      \"index\": 0,\n",
       "      \"logprobs\": null,\n",
       "      \"text\": \"You are an AI program. Your purpose is to execute tasks.\\n  Decompose the following question into subtasks: \\n  \\n  How many colleges are there in Oxford?\\n  \\n  You have the following tools available:\\n  `search[$query]` to search the internet for $query to verify your assumptions. \\n  `memory[$query]` to search your internal memory.\\n  \\n  Think step by step.\\n\\n1. Identify the location of Oxford: `memory[Oxford]`\\n2. Identify the type of institution: `memory[colleges]`\\n3. Search for the number of colleges in Oxford: `search[number of colleges in Oxford]`\"\n",
       "    }\n",
       "  ],\n",
       "  \"created\": 1671212607,\n",
       "  \"id\": \"cmpl-6O91zRvEAa3UiSpHb1t0pXV3bhwrQ\",\n",
       "  \"model\": \"text-davinci-003\",\n",
       "  \"object\": \"text_completion\",\n",
       "  \"usage\": {\n",
       "    \"completion_tokens\": 58,\n",
       "    \"prompt_tokens\": 95,\n",
       "    \"total_tokens\": 153\n",
       "  }\n",
       "}"
      ]
     },
     "execution_count": 24,
     "metadata": {},
     "output_type": "execute_result"
    }
   ],
   "source": [
    "response = openai.Completion.create(\n",
    "  model=\"text-davinci-003\",\n",
    "  prompt=\"\"\"You are an AI program. Your purpose is to execute tasks.\n",
    "  Decompose the following question into subtasks:\n",
    "\n",
    "  How many colleges are there in Oxford?\n",
    "\n",
    "  You have the following tools available:\n",
    "  `search[$query]` to search the internet for $query to verify your assumptions.\n",
    "  `memory[$query]` to search your internal memory.\n",
    "\n",
    "  Think step by step.\"\"\",\n",
    "  temperature=0.0,\n",
    "  max_tokens=100,\n",
    "  top_p=1,\n",
    "  frequency_penalty=0,\n",
    "  presence_penalty=0,\n",
    "  echo=True\n",
    ")\n",
    "response"
   ]
  },
  {
   "cell_type": "code",
   "execution_count": 40,
   "metadata": {},
   "outputs": [
    {
     "data": {
      "text/plain": [
       "<OpenAIObject text_completion id=cmpl-6OANa7PYe4ISh5URcuzuQP1NeeVbw at 0x105debd10> JSON: {\n",
       "  \"choices\": [\n",
       "    {\n",
       "      \"finish_reason\": \"stop\",\n",
       "      \"index\": 0,\n",
       "      \"logprobs\": null,\n",
       "      \"text\": \"USA_Overview\\\"\"\n",
       "    }\n",
       "  ],\n",
       "  \"created\": 1671217790,\n",
       "  \"id\": \"cmpl-6OANa7PYe4ISh5URcuzuQP1NeeVbw\",\n",
       "  \"model\": \"text-davinci-003\",\n",
       "  \"object\": \"text_completion\",\n",
       "  \"usage\": {\n",
       "    \"completion_tokens\": 4,\n",
       "    \"prompt_tokens\": 209,\n",
       "    \"total_tokens\": 213\n",
       "  }\n",
       "}"
      ]
     },
     "execution_count": 40,
     "metadata": {},
     "output_type": "execute_result"
    }
   ],
   "source": [
    "response = openai.Completion.create(\n",
    "  model=\"text-davinci-003\",\n",
    "  prompt=\"\"\"Suggest a good document name for the following text:\n",
    "\n",
    "The United States of America (U.S.A. or USA), commonly known as the United States (U.S. or US) or America, is a country in North America. It consists of 50 states, a federal district, five major unincorporated territories, nine Minor Outlying Islands,[j] and 326 Indian reservations. It is the world's third-largest country by both land and total area.[d] The United States shares land borders with Canada to its north and with Mexico to its south. It has maritime borders with the Bahamas, Cuba, Russia, and other nations.[k] With a population of over 331 million,[e] it is the most populous country in the Americas and the third most populous in the world. The national capital is Washington, D.C., and the most populous city and financial center is New York City.\n",
    "\n",
    "Not available filenames: [USA]. Hence, the suggested filenname is: filename=\\\"\"\"\",\n",
    "  temperature=0.05,\n",
    "  max_tokens=100,\n",
    "  top_p=1,\n",
    "  frequency_penalty=0,\n",
    "  presence_penalty=0,\n",
    "  echo=False\n",
    ")\n",
    "response"
   ]
  },
  {
   "cell_type": "code",
   "execution_count": null,
   "metadata": {},
   "outputs": [],
   "source": [
    "The United States of America (U.S.A. or USA), commonly known as the United States (U.S. or US) or America, is a country in North America. It consists of 50 states, a federal district, five major unincorporated territories, nine Minor Outlying Islands,[j] and 326 Indian reservations. It is the world's third-largest country by both land and total area.[d] The United States shares land borders with Canada to its north and with Mexico to its south. It has maritime borders with the Bahamas, Cuba, Russia, and other nations.[k] With a population of over 331 million,[e] it is the most populous country in the Americas and the third most populous in the world. The national capital is Washington, D.C., and the most populous city and financial center is New York City."
   ]
  },
  {
   "cell_type": "code",
   "execution_count": 21,
   "metadata": {},
   "outputs": [],
   "source": [
    "from langchain.agents import ZeroShotAgent, Tool\n",
    "from langchain import OpenAI, SerpAPIWrapper, LLMChain"
   ]
  },
  {
   "cell_type": "code",
   "execution_count": null,
   "metadata": {},
   "outputs": [],
   "source": []
  }
 ],
 "metadata": {
  "kernelspec": {
   "display_name": "Python 3 (ipykernel)",
   "language": "python",
   "name": "python3"
  },
  "language_info": {
   "codemirror_mode": {
    "name": "ipython",
    "version": 3
   },
   "file_extension": ".py",
   "mimetype": "text/x-python",
   "name": "python",
   "nbconvert_exporter": "python",
   "pygments_lexer": "ipython3",
   "version": "3.11.0"
  }
 },
 "nbformat": 4,
 "nbformat_minor": 4
}
